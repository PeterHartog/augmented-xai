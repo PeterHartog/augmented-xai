{
 "cells": [
  {
   "cell_type": "code",
   "execution_count": 1,
   "metadata": {},
   "outputs": [],
   "source": [
    "import os\n",
    "import sys\n",
    "import pyrootutils\n",
    "\n",
    "pyrootutils.setup_root(os.path.abspath(''), indicator=\".project-root\", pythonpath=True)\n",
    "sys.path.append('..')\n",
    "sys.path.append('')\n"
   ]
  },
  {
   "cell_type": "code",
   "execution_count": 2,
   "metadata": {},
   "outputs": [],
   "source": [
    "from typing import Optional\n",
    "\n",
    "import pandas as pd\n",
    "from collections import Counter\n",
    "import matplotlib.pyplot as plt\n",
    "\n",
    "from tdc.generation import MolGen\n",
    "from tdc.single_pred import Tox\n",
    "\n",
    "from representation.src.actions.smiles.cleaning import SmilesCleaning\n",
    "from representation.src.actions.smiles.enumeration import SmilesEnumeration\n",
    "from representation.src.actions.smiles.filtering import DropAllNA, DropDuplicates\n",
    "from representation.src.actions.smiles.physchem_calculation import PhyschemCalculation\n"
   ]
  },
  {
   "cell_type": "markdown",
   "metadata": {},
   "source": [
    "Find root:"
   ]
  },
  {
   "cell_type": "code",
   "execution_count": 3,
   "metadata": {},
   "outputs": [],
   "source": [
    "ROOT = str(pyrootutils.find_root())\n",
    "DATA_FOLDER = \"data\"\n"
   ]
  },
  {
   "cell_type": "markdown",
   "metadata": {},
   "source": [
    "Import Ames from TDC"
   ]
  },
  {
   "cell_type": "code",
   "execution_count": 4,
   "metadata": {},
   "outputs": [
    {
     "name": "stderr",
     "output_type": "stream",
     "text": [
      "Found local copy...\n",
      "Loading...\n",
      "Done!\n"
     ]
    }
   ],
   "source": [
    "data = Tox(name=\"AMES\")\n",
    "dfs = data.get_split(method=\"random\")\n",
    "df = pd.concat({k: dfs[k] for k in [\"test\", \"valid\", \"train\"]}, axis=0)\n",
    "df = df.reset_index(level=0, drop=False).rename(columns={\"level_0\": \"split\"}).reset_index(drop=True)\n"
   ]
  },
  {
   "cell_type": "code",
   "execution_count": 5,
   "metadata": {},
   "outputs": [
    {
     "name": "stderr",
     "output_type": "stream",
     "text": [
      "Found local copy...\n",
      "Loading...\n",
      "Done!\n",
      "100%|██████████| 7278/7278 [00:01<00:00, 5403.78it/s]\n"
     ]
    }
   ],
   "source": [
    "data = Tox(name=\"AMES\")\n",
    "\n",
    "scaffold_dfs = data.get_split(method=\"scaffold\")\n",
    "scaffold = pd.concat({k: dfs[k] for k in [\"test\", \"valid\", \"train\"]}, axis=0)\n",
    "scaffold = scaffold.reset_index(level=0, drop=False).rename(columns={\"level_0\": \"scaffold\"}).reset_index(drop=True)\n",
    "\n",
    "random_dfs = data.get_split(method=\"random\")\n",
    "random = pd.concat({k: dfs[k] for k in [\"test\", \"valid\", \"train\"]}, axis=0)\n",
    "random = random.reset_index(level=0, drop=False).rename(columns={\"level_0\": \"random\"}).reset_index(drop=True)\n",
    "\n",
    "df = scaffold.merge(random[[\"Drug_ID\", \"random\"]], on=\"Drug_ID\", how=\"left\")\n"
   ]
  },
  {
   "cell_type": "code",
   "execution_count": 6,
   "metadata": {},
   "outputs": [
    {
     "data": {
      "text/html": [
       "<div>\n",
       "<style scoped>\n",
       "    .dataframe tbody tr th:only-of-type {\n",
       "        vertical-align: middle;\n",
       "    }\n",
       "\n",
       "    .dataframe tbody tr th {\n",
       "        vertical-align: top;\n",
       "    }\n",
       "\n",
       "    .dataframe thead th {\n",
       "        text-align: right;\n",
       "    }\n",
       "</style>\n",
       "<table border=\"1\" class=\"dataframe\">\n",
       "  <thead>\n",
       "    <tr style=\"text-align: right;\">\n",
       "      <th></th>\n",
       "      <th>scaffold</th>\n",
       "      <th>Drug_ID</th>\n",
       "      <th>Drug</th>\n",
       "      <th>Y</th>\n",
       "      <th>random</th>\n",
       "    </tr>\n",
       "  </thead>\n",
       "  <tbody>\n",
       "    <tr>\n",
       "      <th>0</th>\n",
       "      <td>test</td>\n",
       "      <td>Drug 6060</td>\n",
       "      <td>Cc1cc(=O)oc2ccc3c(c12)C1(C)OOC1(C)O3</td>\n",
       "      <td>1</td>\n",
       "      <td>test</td>\n",
       "    </tr>\n",
       "    <tr>\n",
       "      <th>1</th>\n",
       "      <td>test</td>\n",
       "      <td>Drug 6703</td>\n",
       "      <td>CN(CC(O)CO)N=O</td>\n",
       "      <td>1</td>\n",
       "      <td>test</td>\n",
       "    </tr>\n",
       "    <tr>\n",
       "      <th>2</th>\n",
       "      <td>test</td>\n",
       "      <td>Drug 6827</td>\n",
       "      <td>O=[N+]([O-])c1ccc(OC2CO2)cc1</td>\n",
       "      <td>1</td>\n",
       "      <td>test</td>\n",
       "    </tr>\n",
       "    <tr>\n",
       "      <th>3</th>\n",
       "      <td>test</td>\n",
       "      <td>Drug 3689</td>\n",
       "      <td>Cn1cnc2cc([N+](=O)[O-])ccc21</td>\n",
       "      <td>0</td>\n",
       "      <td>test</td>\n",
       "    </tr>\n",
       "    <tr>\n",
       "      <th>4</th>\n",
       "      <td>test</td>\n",
       "      <td>Drug 4516</td>\n",
       "      <td>CC[C@H](CO)NCCN[C@H](CC)CO</td>\n",
       "      <td>0</td>\n",
       "      <td>test</td>\n",
       "    </tr>\n",
       "  </tbody>\n",
       "</table>\n",
       "</div>"
      ],
      "text/plain": [
       "  scaffold    Drug_ID                                  Drug  Y random\n",
       "0     test  Drug 6060  Cc1cc(=O)oc2ccc3c(c12)C1(C)OOC1(C)O3  1   test\n",
       "1     test  Drug 6703                        CN(CC(O)CO)N=O  1   test\n",
       "2     test  Drug 6827          O=[N+]([O-])c1ccc(OC2CO2)cc1  1   test\n",
       "3     test  Drug 3689          Cn1cnc2cc([N+](=O)[O-])ccc21  0   test\n",
       "4     test  Drug 4516            CC[C@H](CO)NCCN[C@H](CC)CO  0   test"
      ]
     },
     "execution_count": 6,
     "metadata": {},
     "output_type": "execute_result"
    }
   ],
   "source": [
    "df.head()\n"
   ]
  },
  {
   "cell_type": "markdown",
   "metadata": {},
   "source": [
    "Quick data overview"
   ]
  },
  {
   "cell_type": "code",
   "execution_count": 7,
   "metadata": {},
   "outputs": [],
   "source": [
    "original_length = len(df)\n",
    "random_lengths = df[\"random\"].value_counts().to_dict()\n",
    "scaffold_lengths = df[\"scaffold\"].value_counts().to_dict()\n",
    "Y_lengths = df[\"Y\"].value_counts().to_dict()\n"
   ]
  },
  {
   "cell_type": "markdown",
   "metadata": {},
   "source": [
    "# Data Cleaning"
   ]
  },
  {
   "cell_type": "code",
   "execution_count": 8,
   "metadata": {},
   "outputs": [
    {
     "name": "stderr",
     "output_type": "stream",
     "text": [
      "100%|██████████| 2048/2048 [00:00<00:00, 10009.02it/s]\n",
      "100%|██████████| 2048/2048 [00:01<00:00, 1754.28it/s]\n",
      "100%|██████████| 2048/2048 [00:01<00:00, 1513.52it/s]\n",
      "100%|██████████| 2048/2048 [00:00<00:00, 232028.70it/s]\n",
      "100%|██████████| 2048/2048 [00:01<00:00, 1314.97it/s]\n",
      "100%|██████████| 2048/2048 [00:00<00:00, 17246.72it/s]\n",
      "100%|██████████| 2048/2048 [00:00<00:00, 10833.24it/s]\n",
      "100%|██████████| 2048/2048 [00:01<00:00, 1873.27it/s]\n",
      "100%|██████████| 2048/2048 [00:01<00:00, 1707.32it/s]\n",
      "100%|██████████| 2048/2048 [00:00<00:00, 240096.56it/s]\n",
      "100%|██████████| 2048/2048 [00:01<00:00, 1238.47it/s]\n",
      "100%|██████████| 2048/2048 [00:00<00:00, 13730.89it/s]\n",
      "100%|██████████| 2048/2048 [00:00<00:00, 11333.52it/s]\n",
      "100%|██████████| 2048/2048 [00:01<00:00, 1631.42it/s]\n",
      "100%|██████████| 2048/2048 [00:01<00:00, 1453.14it/s]\n",
      "100%|██████████| 2048/2048 [00:00<00:00, 191104.02it/s]\n",
      "100%|██████████| 2048/2048 [00:01<00:00, 1087.71it/s]\n",
      "100%|██████████| 2048/2048 [00:00<00:00, 15477.05it/s]\n",
      "100%|██████████| 1134/1134 [00:00<00:00, 10292.39it/s]\n",
      "100%|██████████| 1134/1134 [00:00<00:00, 1737.19it/s]\n",
      "100%|██████████| 1134/1134 [00:00<00:00, 1640.73it/s]\n",
      "100%|██████████| 1134/1134 [00:00<00:00, 175770.17it/s]\n",
      "100%|██████████| 1134/1134 [00:00<00:00, 1288.85it/s]\n",
      "100%|██████████| 1134/1134 [00:00<00:00, 16695.77it/s]\n",
      "0it [00:00, ?it/s]/5 [00:16<00:03,  3.88s/it]\n",
      "0it [00:00, ?it/s]\n",
      "0it [00:00, ?it/s]\n",
      "0it [00:00, ?it/s]\n",
      "0it [00:00, ?it/s]\n",
      "0it [00:00, ?it/s]\n",
      "100%|██████████| 5/5 [00:16<00:00,  3.33s/it]\n"
     ]
    }
   ],
   "source": [
    "clean_action = SmilesCleaning(\n",
    "    input_columns=\"Drug\",\n",
    "    output_columns=\"canonical_smiles\",\n",
    "    verbose=False,\n",
    "    logger=None,\n",
    "    sanitize=True,\n",
    "    remove_salts=True,\n",
    "    remove_stereo=True, #True,\n",
    "    remove_metal_atoms=False,\n",
    "    keep_largest_fragment=True,\n",
    "    neutralize_mol=False,\n",
    "    standardize_tautomers=False,\n",
    "    remove_duplicates=False,\n",
    "    canonicalize_smiles=True,\n",
    "    limit_seq_len=None,\n",
    "    constrains=None,\n",
    ")\n",
    "drop_dups = DropDuplicates(input_column=[\"canonical_smiles\"])\n",
    "drop_na = DropAllNA()\n",
    "clean_df = clean_action.batchify(df, batch_size=2048)\n"
   ]
  },
  {
   "cell_type": "code",
   "execution_count": 9,
   "metadata": {},
   "outputs": [
    {
     "name": "stdout",
     "output_type": "stream",
     "text": [
      "Data went from 7278 smiles to 6722.\n"
     ]
    }
   ],
   "source": [
    "clean_df = drop_dups(clean_df)\n",
    "clean_df = drop_na(clean_df)\n",
    "print(f\"Data went from {original_length} smiles to {len(clean_df)}.\")\n"
   ]
  },
  {
   "cell_type": "code",
   "execution_count": 11,
   "metadata": {},
   "outputs": [
    {
     "name": "stdout",
     "output_type": "stream",
     "text": [
      "{1: 2470, 0: 2141}\n",
      "{1: 391, 0: 297}\n",
      "{1: 776, 0: 647}\n"
     ]
    }
   ],
   "source": [
    "print(clean_df[clean_df['scaffold']=='train']['Y'].value_counts().to_dict())\n",
    "print(clean_df[clean_df['scaffold']=='valid']['Y'].value_counts().to_dict())\n",
    "print(clean_df[clean_df['scaffold']=='test']['Y'].value_counts().to_dict())\n"
   ]
  },
  {
   "cell_type": "code",
   "execution_count": null,
   "metadata": {},
   "outputs": [],
   "source": [
    "original_length = len(df)\n",
    "random_lengths = df[\"random\"].value_counts().to_dict()\n",
    "scaffold_lengths = df[\"scaffold\"].value_counts().to_dict()\n",
    "Y_lengths = df[\"Y\"].value_counts().to_dict()\n"
   ]
  },
  {
   "cell_type": "code",
   "execution_count": 65,
   "metadata": {},
   "outputs": [
    {
     "name": "stdout",
     "output_type": "stream",
     "text": [
      "Data went from 7278 smiles to 7247.\n"
     ]
    }
   ],
   "source": [
    "clean_df = drop_dups(clean_df)\n",
    "clean_df = drop_na(clean_df)\n",
    "print(f\"Data went from {original_length} smiles to {len(clean_df)}.\")\n"
   ]
  },
  {
   "cell_type": "markdown",
   "metadata": {},
   "source": [
    "# Data analysis"
   ]
  },
  {
   "cell_type": "code",
   "execution_count": 66,
   "metadata": {},
   "outputs": [
    {
     "name": "stdout",
     "output_type": "stream",
     "text": [
      "175\n"
     ]
    },
    {
     "data": {
      "image/png": "[encoded data removed]",
      "text/plain": [
       "<Figure size 640x480 with 1 Axes>"
      ]
     },
     "metadata": {},
     "output_type": "display_data"
    }
   ],
   "source": [
    "# get the lengths of the strings in the first column\n",
    "lengths = clean_df[[\"canonical_smiles\"]].iloc[:, 0].str.len()\n",
    "\n",
    "# count the occurrence of each length\n",
    "counter = Counter(lengths)\n",
    "print(max(lengths))\n",
    "\n",
    "# create a new DataFrame for the result\n",
    "result = pd.DataFrame.from_dict(counter, orient='index').reset_index()\n",
    "result.columns = ['Length', 'Count']\n",
    "\n",
    "# sort by the 'Length' column\n",
    "result.sort_values('Length', inplace=True)\n",
    "\n",
    "# reset the index for the DataFrame\n",
    "result.reset_index(drop=True, inplace=True)\n",
    "\n",
    "# create a histogram\n",
    "plt.bar(result['Length'], result['Count'])\n",
    "plt.xlabel('Length of String')\n",
    "plt.ylabel('Count')\n",
    "plt.title('Histogram of String Lengths')\n",
    "plt.show()\n"
   ]
  },
  {
   "cell_type": "code",
   "execution_count": null,
   "metadata": {},
   "outputs": [],
   "source": []
  }
 ],
 "metadata": {
  "kernelspec": {
   "display_name": "molecular-interpretation",
   "language": "python",
   "name": "python3"
  },
  "language_info": {
   "codemirror_mode": {
    "name": "ipython",
    "version": 3
   },
   "file_extension": ".py",
   "mimetype": "text/x-python",
   "name": "python",
   "nbconvert_exporter": "python",
   "pygments_lexer": "ipython3",
   "version": "3.11.3"
  }
 },
 "nbformat": 4,
 "nbformat_minor": 2
}
